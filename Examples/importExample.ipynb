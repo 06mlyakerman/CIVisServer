{
 "cells": [
  {
   "cell_type": "markdown",
   "metadata": {},
   "source": [
    "**Import from CIVIS**"
   ]
  },
  {
   "cell_type": "code",
   "execution_count": 1,
   "metadata": {},
   "outputs": [
    {
     "name": "stderr",
     "output_type": "stream",
     "text": [
      "/opt/anaconda3/envs/civis/lib/python3.11/site-packages/h5py/__init__.py:36: UserWarning: h5py is running against HDF5 1.14.3 when it was built against 1.14.2, this may cause problems\n",
      "  _warn((\"h5py is running against HDF5 {0} when it was built against {1}, \"\n"
     ]
    }
   ],
   "source": [
    "from civis.src.ElecTank import ElecTank # functions imported from CIVIS server\n",
    "\n",
    "\n",
    "# function imports \n",
    "import tdt\n",
    "import mne\n",
    "import os\n",
    "import numpy as np\n",
    "from scipy.signal import iirnotch, lfilter, get_window\n",
    "from scipy.fft import fft\n",
    "\n",
    "from bokeh.plotting import figure\n",
    "from bokeh.io import show, output_notebook, output_file, save, reset_output\n",
    "\n",
    "from bokeh.models import LinearColorMapper, ColorBar, LogColorMapper, BasicTicker, FixedTicker, CustomJSTickFormatter\n",
    "from bokeh.palettes import Viridis256\n",
    "from bokeh.layouts import column, row\n",
    "\n",
    "output_notebook()"
   ]
  },
  {
   "cell_type": "markdown",
   "metadata": {},
   "source": [
    "**Session Imports**"
   ]
  },
  {
   "cell_type": "code",
   "execution_count": 2,
   "metadata": {},
   "outputs": [
    {
     "name": "stdout",
     "output_type": "stream",
     "text": [
      "Config file not found at /Users/edward41803/Documents/GitHub/CIVisServer/civis/config.json. Using default configuration.\n"
     ]
    },
    {
     "ename": "KeyError",
     "evalue": "'ElecPath'",
     "output_type": "error",
     "traceback": [
      "\u001b[0;31m---------------------------------------------------------------------------\u001b[0m",
      "\u001b[0;31mKeyError\u001b[0m                                  Traceback (most recent call last)",
      "Cell \u001b[0;32mIn[2], line 3\u001b[0m\n\u001b[1;32m      1\u001b[0m session_name \u001b[38;5;241m=\u001b[39m \u001b[38;5;124m\"\u001b[39m\u001b[38;5;124m379_10102024\u001b[39m\u001b[38;5;124m\"\u001b[39m\n\u001b[0;32m----> 3\u001b[0m ep \u001b[38;5;241m=\u001b[39m ElecTank(session_name, height\u001b[38;5;241m=\u001b[39m\u001b[38;5;241m30\u001b[39m)\n\u001b[1;32m      5\u001b[0m overwrite\u001b[38;5;241m=\u001b[39m\u001b[38;5;28;01mFalse\u001b[39;00m\n",
      "File \u001b[0;32m~/Documents/GitHub/CIVisServer/civis/src/ElecTank.py:29\u001b[0m, in \u001b[0;36mElecTank.__init__\u001b[0;34m(self, session_name, elec_path, virmen_path, maze_type, vm_rate, resample_fs, session_duration, virmen_data_length, velocity_height, velocity_distance, window_length, polyorder, height, notch_fs, notch_Q, threshold)\u001b[0m\n\u001b[1;32m     26\u001b[0m \u001b[38;5;28mself\u001b[39m\u001b[38;5;241m.\u001b[39msession_name \u001b[38;5;241m=\u001b[39m session_name\n\u001b[1;32m     27\u001b[0m \u001b[38;5;28mself\u001b[39m\u001b[38;5;241m.\u001b[39mconfig \u001b[38;5;241m=\u001b[39m \u001b[38;5;28mself\u001b[39m\u001b[38;5;241m.\u001b[39mload_config()\n\u001b[0;32m---> 29\u001b[0m elec_path \u001b[38;5;241m=\u001b[39m os\u001b[38;5;241m.\u001b[39mpath\u001b[38;5;241m.\u001b[39mjoin(\u001b[38;5;28mself\u001b[39m\u001b[38;5;241m.\u001b[39mconfig[\u001b[38;5;124m'\u001b[39m\u001b[38;5;124mElecPath\u001b[39m\u001b[38;5;124m'\u001b[39m], session_name) \u001b[38;5;28;01mif\u001b[39;00m elec_path \u001b[38;5;129;01mis\u001b[39;00m \u001b[38;5;28;01mNone\u001b[39;00m \u001b[38;5;28;01melse\u001b[39;00m elec_path\n\u001b[1;32m     30\u001b[0m virmen_path \u001b[38;5;241m=\u001b[39m os\u001b[38;5;241m.\u001b[39mpath\u001b[38;5;241m.\u001b[39mjoin(\u001b[38;5;28mself\u001b[39m\u001b[38;5;241m.\u001b[39mconfig[\u001b[38;5;124m'\u001b[39m\u001b[38;5;124mVirmenFilePath\u001b[39m\u001b[38;5;124m'\u001b[39m],\n\u001b[1;32m     31\u001b[0m                            \u001b[38;5;124mf\u001b[39m\u001b[38;5;124m\"\u001b[39m\u001b[38;5;132;01m{\u001b[39;00msession_name\u001b[38;5;132;01m}\u001b[39;00m\u001b[38;5;124m.txt\u001b[39m\u001b[38;5;124m\"\u001b[39m) \u001b[38;5;28;01mif\u001b[39;00m virmen_path \u001b[38;5;129;01mis\u001b[39;00m \u001b[38;5;28;01mNone\u001b[39;00m \u001b[38;5;28;01melse\u001b[39;00m virmen_path\n\u001b[1;32m     33\u001b[0m \u001b[38;5;28msuper\u001b[39m()\u001b[38;5;241m.\u001b[39m\u001b[38;5;21m__init__\u001b[39m(\n\u001b[1;32m     34\u001b[0m     session_name\u001b[38;5;241m=\u001b[39msession_name,\n\u001b[1;32m     35\u001b[0m     virmen_path\u001b[38;5;241m=\u001b[39mvirmen_path,\n\u001b[0;32m   (...)\u001b[0m\n\u001b[1;32m     44\u001b[0m     polyorder\u001b[38;5;241m=\u001b[39mpolyorder,\n\u001b[1;32m     45\u001b[0m     height\u001b[38;5;241m=\u001b[39mheight)\n",
      "\u001b[0;31mKeyError\u001b[0m: 'ElecPath'"
     ]
    }
   ],
   "source": [
    "session_name = \"379_10102024\" # these files will be sourced from the address specified in the config file in CIVISSERVER\n",
    "\n",
    "ep = ElecTank(session_name, height=30)\n",
    "\n",
    "overwrite=False # set functions within CIVIS server to not "
   ]
  }
 ],
 "metadata": {
  "kernelspec": {
   "display_name": "civis",
   "language": "python",
   "name": "python3"
  },
  "language_info": {
   "codemirror_mode": {
    "name": "ipython",
    "version": 3
   },
   "file_extension": ".py",
   "mimetype": "text/x-python",
   "name": "python",
   "nbconvert_exporter": "python",
   "pygments_lexer": "ipython3",
   "version": "3.11.10"
  }
 },
 "nbformat": 4,
 "nbformat_minor": 2
}
